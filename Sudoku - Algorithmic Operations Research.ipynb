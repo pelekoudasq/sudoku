{
 "cells": [
  {
   "cell_type": "markdown",
   "metadata": {},
   "source": [
    "# Sudoku From Sudoku"
   ]
  },
  {
   "cell_type": "markdown",
   "metadata": {},
   "source": [
    "### Import and Check Sudoku\n",
    "##### Here we import a 2D matrix from a .csv file and we check if it is Sudoku"
   ]
  },
  {
   "cell_type": "code",
   "execution_count": 1,
   "metadata": {
    "scrolled": true
   },
   "outputs": [
    {
     "name": "stdout",
     "output_type": "stream",
     "text": [
      "-------------------------------------\n",
      "| 9   3   4 | 5   6   8 | 1   2   7 |\n",
      "| 8   2   6 | 7   1   4 | 5   9   3 |\n",
      "| 1   5   7 | 9   2   3 | 4   6   8 |\n",
      "|---+---+---+---+---+---+---+---+---|\n",
      "| 2   7   8 | 1   5   9 | 3   4   6 |\n",
      "| 6   4   1 | 3   8   7 | 2   5   9 |\n",
      "| 3   9   5 | 6   4   2 | 7   8   1 |\n",
      "|---+---+---+---+---+---+---+---+---|\n",
      "| 5   6   3 | 4   9   1 | 8   7   2 |\n",
      "| 7   8   9 | 2   3   5 | 6   1   4 |\n",
      "| 4   1   2 | 8   7   6 | 9   3   5 |\n",
      "-------------------------------------\n"
     ]
    },
    {
     "data": {
      "text/markdown": [
       "#### Sudoku is **correct**"
      ],
      "text/plain": [
       "<IPython.core.display.Markdown object>"
      ]
     },
     "metadata": {},
     "output_type": "display_data"
    }
   ],
   "source": [
    "import csv\n",
    "from sudoku import *\n",
    "from IPython.display import Markdown, display\n",
    "def printmd(string):\n",
    "    display(Markdown(string))\n",
    "\n",
    "sudoku_list = []\n",
    "with open('sudoku.csv') as sudoku:\n",
    "    parser = csv.reader(sudoku, delimiter=',')\n",
    "    for row in parser:\n",
    "        row_list = []\n",
    "        for cell in row:\n",
    "            row_list.append(int(cell))\n",
    "        sudoku_list.append(row_list)\n",
    "\n",
    "sudoku_print(sudoku_list)\n",
    "check_sudoku(sudoku_list)"
   ]
  },
  {
   "cell_type": "markdown",
   "metadata": {},
   "source": [
    "### Transposed Sudoku is also a Sudoku\n",
    "##### Here we find out if a transposed sudoku matrix (turning rows into columns) is also a Sudoku"
   ]
  },
  {
   "cell_type": "code",
   "execution_count": 2,
   "metadata": {},
   "outputs": [
    {
     "name": "stdout",
     "output_type": "stream",
     "text": [
      "-------------------------------------\n",
      "| 9   8   1 | 2   6   3 | 5   7   4 |\n",
      "| 3   2   5 | 7   4   9 | 6   8   1 |\n",
      "| 4   6   7 | 8   1   5 | 3   9   2 |\n",
      "|---+---+---+---+---+---+---+---+---|\n",
      "| 5   7   9 | 1   3   6 | 4   2   8 |\n",
      "| 6   1   2 | 5   8   4 | 9   3   7 |\n",
      "| 8   4   3 | 9   7   2 | 1   5   6 |\n",
      "|---+---+---+---+---+---+---+---+---|\n",
      "| 1   5   4 | 3   2   7 | 8   6   9 |\n",
      "| 2   9   6 | 4   5   8 | 7   1   3 |\n",
      "| 7   3   8 | 6   9   1 | 2   4   5 |\n",
      "-------------------------------------\n"
     ]
    },
    {
     "data": {
      "text/markdown": [
       "#### Sudoku is **correct**"
      ],
      "text/plain": [
       "<IPython.core.display.Markdown object>"
      ]
     },
     "metadata": {},
     "output_type": "display_data"
    }
   ],
   "source": [
    "import numpy as np\n",
    "\n",
    "transposed_sudoku_list = np.array(sudoku_list).transpose().tolist()\n",
    "\n",
    "sudoku_print(transposed_sudoku_list)\n",
    "check_sudoku(transposed_sudoku_list)"
   ]
  },
  {
   "cell_type": "markdown",
   "metadata": {},
   "source": [
    "### Reordered Sudoku by lines or columnes is also a Sudoku\n",
    "##### Here we find out if a reordered sudoku matrix (permuting rows or columns in the same submatrix) is also a Sudoku"
   ]
  },
  {
   "cell_type": "code",
   "execution_count": 3,
   "metadata": {},
   "outputs": [
    {
     "name": "stdout",
     "output_type": "stream",
     "text": [
      "-------------------------------------\n",
      "| 1   5   7 | 9   2   3 | 4   6   8 | <-- swapped\n",
      "| 8   2   6 | 7   1   4 | 5   9   3 |\n",
      "| 9   3   4 | 5   6   8 | 1   2   7 | <-- swapped\n",
      "|---+---+---+---+---+---+---+---+---|\n",
      "| 2   7   8 | 1   5   9 | 3   4   6 |\n",
      "| 6   4   1 | 3   8   7 | 2   5   9 |\n",
      "| 3   9   5 | 6   4   2 | 7   8   1 |\n",
      "|---+---+---+---+---+---+---+---+---|\n",
      "| 5   6   3 | 4   9   1 | 8   7   2 |\n",
      "| 7   8   9 | 2   3   5 | 6   1   4 |\n",
      "| 4   1   2 | 8   7   6 | 9   3   5 |\n",
      "-------------------------------------\n"
     ]
    },
    {
     "data": {
      "text/markdown": [
       "#### Sudoku is **correct**"
      ],
      "text/plain": [
       "<IPython.core.display.Markdown object>"
      ]
     },
     "metadata": {},
     "output_type": "display_data"
    },
    {
     "name": "stdout",
     "output_type": "stream",
     "text": [
      "-------------------------------------\n",
      "| 5   6   3 | 4   9   1 | 8   7   2 | <-- swapped\n",
      "| 8   2   6 | 7   1   4 | 5   9   3 |\n",
      "| 1   5   7 | 9   2   3 | 4   6   8 |\n",
      "|---+---+---+---+---+---+---+---+---|\n",
      "| 2   7   8 | 1   5   9 | 3   4   6 |\n",
      "| 6   4   1 | 3   8   7 | 2   5   9 |\n",
      "| 3   9   5 | 6   4   2 | 7   8   1 |\n",
      "|---+---+---+---+---+---+---+---+---|\n",
      "| 9   3   4 | 5   6   8 | 1   2   7 | <-- swapped\n",
      "| 7   8   9 | 2   3   5 | 6   1   4 |\n",
      "| 4   1   2 | 8   7   6 | 9   3   5 |\n",
      "-------------------------------------\n"
     ]
    },
    {
     "data": {
      "text/markdown": [
       "#### Sudoku is **NOT** correct"
      ],
      "text/plain": [
       "<IPython.core.display.Markdown object>"
      ]
     },
     "metadata": {},
     "output_type": "display_data"
    }
   ],
   "source": [
    "swaped_sudoku = swap_rows(sudoku_list, 0, 2)\n",
    "sudoku_print(swaped_sudoku, {0, 2})\n",
    "check_sudoku(swaped_sudoku)\n",
    "swaped_sudoku = swap_rows(sudoku_list, 0, 2)\n",
    "swaped_sudoku = swap_rows(sudoku_list, 0, 6)\n",
    "sudoku_print(swaped_sudoku, {0, 6})\n",
    "check_sudoku(swaped_sudoku)\n"
   ]
  }
 ],
 "metadata": {
  "kernelspec": {
   "display_name": "Python 3",
   "language": "python",
   "name": "python3"
  },
  "language_info": {
   "codemirror_mode": {
    "name": "ipython",
    "version": 3
   },
   "file_extension": ".py",
   "mimetype": "text/x-python",
   "name": "python",
   "nbconvert_exporter": "python",
   "pygments_lexer": "ipython3",
   "version": "3.6.7"
  }
 },
 "nbformat": 4,
 "nbformat_minor": 2
}
